{
 "cells": [
  {
   "cell_type": "markdown",
   "id": "25146399",
   "metadata": {},
   "source": [
    "# PRACTICA DEL PADRON"
   ]
  },
  {
   "cell_type": "markdown",
   "id": "251e4d44",
   "metadata": {},
   "source": [
    "##### Un poquito de spark"
   ]
  },
  {
   "cell_type": "markdown",
   "id": "029e4c52",
   "metadata": {},
   "source": [
    "6.1)\n",
    "Comenzamos realizando la misma práctica que hicimos en Hive en Spark, importando el \n",
    "csv. Sería recomendable intentarlo con opciones que quiten las \"\" de los campos, que \n",
    "ignoren los espacios innecesarios en los campos, que sustituyan los valores vacíos por 0 y \n",
    "que infiera el esquema"
   ]
  },
  {
   "cell_type": "code",
   "execution_count": 2,
   "id": "21b10a1c",
   "metadata": {},
   "outputs": [
    {
     "data": {
      "text/plain": [
       "import org.apache.spark.sql.SparkSession\r\n"
      ]
     },
     "execution_count": 2,
     "metadata": {},
     "output_type": "execute_result"
    }
   ],
   "source": [
    "import org.apache.spark.sql.SparkSession"
   ]
  },
  {
   "cell_type": "code",
   "execution_count": 3,
   "id": "af8fd405",
   "metadata": {},
   "outputs": [
    {
     "data": {
      "text/plain": [
       "import org.apache.spark.sql.functions._\r\n"
      ]
     },
     "execution_count": 3,
     "metadata": {},
     "output_type": "execute_result"
    }
   ],
   "source": [
    "import org.apache.spark.sql.functions._"
   ]
  },
  {
   "cell_type": "code",
   "execution_count": 4,
   "id": "c5904ec1",
   "metadata": {},
   "outputs": [
    {
     "data": {
      "text/plain": [
       "import org.apache.spark.sql.types._\r\n"
      ]
     },
     "execution_count": 4,
     "metadata": {},
     "output_type": "execute_result"
    }
   ],
   "source": [
    "import org.apache.spark.sql.types._"
   ]
  },
  {
   "cell_type": "code",
   "execution_count": 5,
   "id": "588f0397",
   "metadata": {},
   "outputs": [
    {
     "data": {
      "text/plain": [
       "spark: org.apache.spark.sql.SparkSession = org.apache.spark.sql.SparkSession@691c2045\r\n"
      ]
     },
     "execution_count": 5,
     "metadata": {},
     "output_type": "execute_result"
    }
   ],
   "source": [
    "val spark = SparkSession\n",
    "            .builder\n",
    "            .appName(\"PracticaPadron\")\n",
    "            .getOrCreate()"
   ]
  },
  {
   "cell_type": "code",
   "execution_count": 6,
   "id": "2566e5b5",
   "metadata": {},
   "outputs": [
    {
     "data": {
      "text/plain": [
       "csvfile: String = C:/LearningSparkV2-master/databricks-datasets/learning-spark-v2/Rango_Edades_Seccion_202106.csv\r\n"
      ]
     },
     "execution_count": 6,
     "metadata": {},
     "output_type": "execute_result"
    }
   ],
   "source": [
    "val csvfile = \"C:/LearningSparkV2-master/databricks-datasets/learning-spark-v2/Rango_Edades_Seccion_202106.csv\""
   ]
  },
  {
   "cell_type": "code",
   "execution_count": 7,
   "id": "31c21a67",
   "metadata": {},
   "outputs": [
    {
     "data": {
      "text/plain": [
       "esquema: org.apache.spark.sql.types.StructType = StructType(StructField(cod_distrito,IntegerType,false), StructField(desc_distrito,StringType,false), StructField(cod_dist_barrio,IntegerType,false), StructField(desc_barrio,StringType,false), StructField(cod_barrio,IntegerType,false), StructField(cod_dis_seccion,IntegerType,false), StructField(cod_seccion,IntegerType,false), StructField(cod_edad_int,IntegerType,false), StructField(espanoleshombres,IntegerType,false), StructField(espanolesmujeres,IntegerType,false), StructField(extranjeroshombres,IntegerType,false), StructField(extranjerosmujeres,IntegerType,false))\r\n"
      ]
     },
     "execution_count": 7,
     "metadata": {},
     "output_type": "execute_result"
    }
   ],
   "source": [
    "val esquema = StructType(Array(StructField(\"cod_distrito\", IntegerType, false),\n",
    "                              StructField(\"desc_distrito\", StringType, false),\n",
    "                              StructField(\"cod_dist_barrio\", IntegerType, false),\n",
    "                              StructField(\"desc_barrio\", StringType, false),\n",
    "                              StructField(\"cod_barrio\", IntegerType, false),\n",
    "                              StructField(\"cod_dis_seccion\", IntegerType, false),\n",
    "                              StructField(\"cod_seccion\", IntegerType, false),\n",
    "                              StructField(\"cod_edad_int\", IntegerType, false),\n",
    "                              StructField(\"espanoleshombres\", IntegerType, false),\n",
    "                              StructField(\"espanolesmujeres\", IntegerType, false),\n",
    "                              StructField(\"extranjeroshombres\", IntegerType, false),\n",
    "                              StructField(\"extranjerosmujeres\", IntegerType, false)))"
   ]
  },
  {
   "cell_type": "code",
   "execution_count": 8,
   "id": "ff11794d",
   "metadata": {},
   "outputs": [
    {
     "data": {
      "text/plain": [
       "RangosDF: org.apache.spark.sql.DataFrame = [cod_distrito: int, desc_distrito: string ... 10 more fields]\r\n"
      ]
     },
     "execution_count": 8,
     "metadata": {},
     "output_type": "execute_result"
    }
   ],
   "source": [
    "val RangosDF = spark.read.format(\"csv\")\n",
    "               .option(\"delimiter\",\";\")\n",
    "               .option(\"quote\", \"\\\"\")\n",
    "               .option(\"emptyValue\", 0)\n",
    "               .option(\"header\", \"true\")\n",
    "               .schema(esquema)\n",
    "               .load(csvfile)"
   ]
  },
  {
   "cell_type": "markdown",
   "id": "af51dfd4",
   "metadata": {},
   "source": [
    "Vamos a eliminar los espacios de el dataframe"
   ]
  },
  {
   "cell_type": "code",
   "execution_count": 9,
   "id": "e7da9523",
   "metadata": {},
   "outputs": [
    {
     "data": {
      "text/plain": [
       "RangosDFS: org.apache.spark.sql.DataFrame = [cod_distrito: string, desc_distrito: string ... 10 more fields]\r\n"
      ]
     },
     "execution_count": 9,
     "metadata": {},
     "output_type": "execute_result"
    }
   ],
   "source": [
    "val RangosDFS = RangosDF.select(trim(col(\"cod_distrito\")).alias(\"cod_distrito\"),\n",
    "                               trim(col(\"desc_distrito\")).alias(\"desc_distrito\"),\n",
    "                               trim(col(\"cod_dist_barrio\")).alias(\"cod_dist_barrio\"),\n",
    "                               trim(col(\"desc_barrio\")).alias(\"desc_barrio\"),\n",
    "                               trim(col(\"cod_barrio\")).alias(\"cod_barrio\"),\n",
    "                               trim(col(\"cod_dis_seccion\")).alias(\"cod_dis_seccion\"),\n",
    "                               trim(col(\"cod_seccion\")).alias(\"cod_seccion\"),\n",
    "                               trim(col(\"cod_edad_int\")).alias(\"cod_edad_int\"),\n",
    "                               trim(col(\"espanoleshombres\")).alias(\"espanoleshombres\"),\n",
    "                               trim(col(\"espanolesmujeres\")).alias(\"espanolesmujeres\"),\n",
    "                               trim(col(\"extranjeroshombres\")).alias(\"extranjeroshombres\"),\n",
    "                               trim(col(\"extranjerosmujeres\")).alias(\"extranjerosmujeres\"))"
   ]
  },
  {
   "cell_type": "code",
   "execution_count": 10,
   "id": "12d842eb",
   "metadata": {},
   "outputs": [
    {
     "name": "stdout",
     "output_type": "stream",
     "text": [
      "+------------+-------------+---------------+-----------+----------+---------------+-----------+------------+----------------+----------------+------------------+------------------+\n",
      "|cod_distrito|desc_distrito|cod_dist_barrio|desc_barrio|cod_barrio|cod_dis_seccion|cod_seccion|cod_edad_int|espanoleshombres|espanolesmujeres|extranjeroshombres|extranjerosmujeres|\n",
      "+------------+-------------+---------------+-----------+----------+---------------+-----------+------------+----------------+----------------+------------------+------------------+\n",
      "|1           |CENTRO       |101            |PALACIO    |1         |1006           |6          |100         |0               |1               |0                 |0                 |\n",
      "|1           |CENTRO       |101            |PALACIO    |1         |1006           |6          |103         |0               |1               |0                 |0                 |\n",
      "|1           |CENTRO       |101            |PALACIO    |1         |1007           |7          |0           |3               |1               |0                 |0                 |\n",
      "|1           |CENTRO       |101            |PALACIO    |1         |1007           |7          |1           |1               |1               |0                 |1                 |\n",
      "|1           |CENTRO       |101            |PALACIO    |1         |1007           |7          |2           |1               |3               |0                 |0                 |\n",
      "|1           |CENTRO       |101            |PALACIO    |1         |1007           |7          |3           |4               |2               |0                 |0                 |\n",
      "|1           |CENTRO       |101            |PALACIO    |1         |1007           |7          |4           |1               |1               |0                 |0                 |\n",
      "|1           |CENTRO       |101            |PALACIO    |1         |1007           |7          |5           |1               |3               |0                 |1                 |\n",
      "|1           |CENTRO       |101            |PALACIO    |1         |1007           |7          |6           |1               |4               |0                 |0                 |\n",
      "|1           |CENTRO       |101            |PALACIO    |1         |1007           |7          |7           |3               |2               |0                 |0                 |\n",
      "+------------+-------------+---------------+-----------+----------+---------------+-----------+------------+----------------+----------------+------------------+------------------+\n",
      "only showing top 10 rows\n",
      "\r\n"
     ]
    }
   ],
   "source": [
    "RangosDFS.show(10, false)"
   ]
  },
  {
   "cell_type": "markdown",
   "id": "4f88c88d",
   "metadata": {},
   "source": [
    "6.3)\n",
    "Enumera todos los barrios diferentes."
   ]
  },
  {
   "cell_type": "code",
   "execution_count": 93,
   "id": "6789d728",
   "metadata": {},
   "outputs": [
    {
     "name": "stdout",
     "output_type": "stream",
     "text": [
      "+--------------------+\n",
      "|desc_barrio         |\n",
      "+--------------------+\n",
      "|VALDEFUENTES        |\n",
      "|LOS JERONIMOS       |\n",
      "|ABRANTES            |\n",
      "|NI?O JESUS          |\n",
      "|VALVERDE            |\n",
      "|CORTES              |\n",
      "|PALOMERAS SURESTE   |\n",
      "|CIUDAD UNIVERSITARIA|\n",
      "|CUATRO VIENTOS      |\n",
      "|TRAFALGAR           |\n",
      "|HELLIN              |\n",
      "|ALAMEDA DE OSUNA    |\n",
      "|PRADOLONGO          |\n",
      "|MOSCARDO            |\n",
      "|VALDEZARZA          |\n",
      "|RECOLETOS           |\n",
      "|HORCAJO             |\n",
      "|EL VISO             |\n",
      "|VISTA ALEGRE        |\n",
      "|PUERTA DEL ANGEL    |\n",
      "+--------------------+\n",
      "only showing top 20 rows\n",
      "\r\n"
     ]
    }
   ],
   "source": [
    "RangosDFS.select(\"desc_barrio\").distinct().show(false)"
   ]
  },
  {
   "cell_type": "markdown",
   "id": "4e5be0f9",
   "metadata": {},
   "source": [
    "6.4)\n",
    "Crea una vista temporal de nombre \"padron\" y a través de ella cuenta el número de barrios\n",
    "diferentes que hay.\n"
   ]
  },
  {
   "cell_type": "code",
   "execution_count": 69,
   "id": "b6844cbb",
   "metadata": {},
   "outputs": [],
   "source": [
    "RangosDFS.createOrReplaceTempView(\"padron\")"
   ]
  },
  {
   "cell_type": "code",
   "execution_count": 70,
   "id": "03637cab",
   "metadata": {},
   "outputs": [
    {
     "name": "stdout",
     "output_type": "stream",
     "text": [
      "+----------+\n",
      "|cod_barrio|\n",
      "+----------+\n",
      "|7         |\n",
      "|3         |\n",
      "|8         |\n",
      "|0         |\n",
      "|5         |\n",
      "|6         |\n",
      "|9         |\n",
      "|1         |\n",
      "|4         |\n",
      "|2         |\n",
      "+----------+\n",
      "\r\n"
     ]
    }
   ],
   "source": [
    "spark.sql(\"\"\"SELECT DISTINCT cod_barrio FROM PADRON\"\"\").show(false)"
   ]
  },
  {
   "cell_type": "code",
   "execution_count": 71,
   "id": "38fb22aa",
   "metadata": {},
   "outputs": [
    {
     "name": "stdout",
     "output_type": "stream",
     "text": [
      "+--------------------+\n",
      "|desc_barrio         |\n",
      "+--------------------+\n",
      "|VALDEFUENTES        |\n",
      "|LOS JERONIMOS       |\n",
      "|ABRANTES            |\n",
      "|NI?O JESUS          |\n",
      "|VALVERDE            |\n",
      "|CORTES              |\n",
      "|PALOMERAS SURESTE   |\n",
      "|CIUDAD UNIVERSITARIA|\n",
      "|CUATRO VIENTOS      |\n",
      "|TRAFALGAR           |\n",
      "|HELLIN              |\n",
      "|ALAMEDA DE OSUNA    |\n",
      "|PRADOLONGO          |\n",
      "|MOSCARDO            |\n",
      "|VALDEZARZA          |\n",
      "|RECOLETOS           |\n",
      "|HORCAJO             |\n",
      "|EL VISO             |\n",
      "|VISTA ALEGRE        |\n",
      "|PUERTA DEL ANGEL    |\n",
      "+--------------------+\n",
      "only showing top 20 rows\n",
      "\r\n"
     ]
    }
   ],
   "source": [
    "spark.sql(\"\"\"SELECT DISTINCT desc_barrio FROM PADRON\"\"\").show(false)"
   ]
  },
  {
   "cell_type": "code",
   "execution_count": 72,
   "id": "04d9e45f",
   "metadata": {},
   "outputs": [
    {
     "name": "stdout",
     "output_type": "stream",
     "text": [
      "+---------------------------+\n",
      "|count(DISTINCT desc_barrio)|\n",
      "+---------------------------+\n",
      "|                        132|\n",
      "+---------------------------+\n",
      "\r\n"
     ]
    }
   ],
   "source": [
    "spark.sql(\"\"\"SELECT COUNT(DISTINCT desc_barrio) FROM padron\"\"\").show()"
   ]
  },
  {
   "cell_type": "markdown",
   "id": "372ee888",
   "metadata": {},
   "source": [
    "6.5)\n",
    "Crea una nueva columna que muestre la longitud de los campos de la columna \n",
    "DESC_DISTRITO y que se llame \"longitud\"."
   ]
  },
  {
   "cell_type": "code",
   "execution_count": 74,
   "id": "fe954260",
   "metadata": {},
   "outputs": [
    {
     "data": {
      "text/plain": [
       "RangosDFL: org.apache.spark.sql.DataFrame = [cod_distrito: string, desc_distrito: string ... 11 more fields]\r\n"
      ]
     },
     "execution_count": 74,
     "metadata": {},
     "output_type": "execute_result"
    }
   ],
   "source": [
    "val RangosDFL=RangosDFS.withColumn(\"longitud\", length(RangosDFS(\"desc_distrito\")))"
   ]
  },
  {
   "cell_type": "code",
   "execution_count": 96,
   "id": "be02f943",
   "metadata": {},
   "outputs": [
    {
     "name": "stdout",
     "output_type": "stream",
     "text": [
      "+-------------------+--------+\n",
      "|desc_distrito      |longitud|\n",
      "+-------------------+--------+\n",
      "|ARGANZUELA         |10      |\n",
      "|FUENCARRAL-EL PARDO|19      |\n",
      "|USERA              |5       |\n",
      "|SALAMANCA          |9       |\n",
      "|PUENTE DE VALLECAS |18      |\n",
      "|VILLA DE VALLECAS  |17      |\n",
      "|CHAMBERI           |8       |\n",
      "|VICALVARO          |9       |\n",
      "|RETIRO             |6       |\n",
      "|CENTRO             |6       |\n",
      "+-------------------+--------+\n",
      "only showing top 10 rows\n",
      "\r\n"
     ]
    }
   ],
   "source": [
    "RangosDFL.select(\"desc_distrito\", \"longitud\").distinct().show(10, false)"
   ]
  },
  {
   "cell_type": "markdown",
   "id": "6519cf7f",
   "metadata": {},
   "source": [
    "6.6)\n",
    "Crea una nueva columna que muestre el valor 5 para cada uno de los registros de la tabla. "
   ]
  },
  {
   "cell_type": "markdown",
   "id": "bc21b5d5",
   "metadata": {},
   "source": [
    "Con la función lit se le agrega un valor constante a la tabla"
   ]
  },
  {
   "cell_type": "code",
   "execution_count": 99,
   "id": "ccf995d4",
   "metadata": {},
   "outputs": [
    {
     "data": {
      "text/plain": [
       "RangosDFL5: org.apache.spark.sql.DataFrame = [cod_distrito: string, desc_distrito: string ... 12 more fields]\r\n"
      ]
     },
     "execution_count": 99,
     "metadata": {},
     "output_type": "execute_result"
    }
   ],
   "source": [
    "val RangosDFL5 = RangosDFL.withColumn(\"valor_5\", lit(5))"
   ]
  },
  {
   "cell_type": "code",
   "execution_count": 100,
   "id": "06c921eb",
   "metadata": {},
   "outputs": [
    {
     "name": "stdout",
     "output_type": "stream",
     "text": [
      "+------------+-------------+---------------+-----------+----------+---------------+-----------+------------+----------------+----------------+------------------+------------------+--------+-------+\n",
      "|cod_distrito|desc_distrito|cod_dist_barrio|desc_barrio|cod_barrio|cod_dis_seccion|cod_seccion|cod_edad_int|espanoleshombres|espanolesmujeres|extranjeroshombres|extranjerosmujeres|longitud|valor_5|\n",
      "+------------+-------------+---------------+-----------+----------+---------------+-----------+------------+----------------+----------------+------------------+------------------+--------+-------+\n",
      "|1           |CENTRO       |101            |PALACIO    |1         |1006           |6          |100         |0               |1               |0                 |0                 |6       |5      |\n",
      "|1           |CENTRO       |101            |PALACIO    |1         |1006           |6          |103         |0               |1               |0                 |0                 |6       |5      |\n",
      "|1           |CENTRO       |101            |PALACIO    |1         |1007           |7          |0           |3               |1               |0                 |0                 |6       |5      |\n",
      "|1           |CENTRO       |101            |PALACIO    |1         |1007           |7          |1           |1               |1               |0                 |1                 |6       |5      |\n",
      "|1           |CENTRO       |101            |PALACIO    |1         |1007           |7          |2           |1               |3               |0                 |0                 |6       |5      |\n",
      "|1           |CENTRO       |101            |PALACIO    |1         |1007           |7          |3           |4               |2               |0                 |0                 |6       |5      |\n",
      "|1           |CENTRO       |101            |PALACIO    |1         |1007           |7          |4           |1               |1               |0                 |0                 |6       |5      |\n",
      "|1           |CENTRO       |101            |PALACIO    |1         |1007           |7          |5           |1               |3               |0                 |1                 |6       |5      |\n",
      "|1           |CENTRO       |101            |PALACIO    |1         |1007           |7          |6           |1               |4               |0                 |0                 |6       |5      |\n",
      "|1           |CENTRO       |101            |PALACIO    |1         |1007           |7          |7           |3               |2               |0                 |0                 |6       |5      |\n",
      "+------------+-------------+---------------+-----------+----------+---------------+-----------+------------+----------------+----------------+------------------+------------------+--------+-------+\n",
      "only showing top 10 rows\n",
      "\r\n"
     ]
    }
   ],
   "source": [
    "RangosDFL5.show(10, false)"
   ]
  },
  {
   "cell_type": "markdown",
   "id": "34eda92b",
   "metadata": {},
   "source": [
    "6.7)\n",
    "Borra esta columna."
   ]
  },
  {
   "cell_type": "code",
   "execution_count": 109,
   "id": "2c10179d",
   "metadata": {},
   "outputs": [
    {
     "data": {
      "text/plain": [
       "RangosDFL5_BORRADO: org.apache.spark.sql.DataFrame = [cod_distrito: string, desc_distrito: string ... 11 more fields]\r\n"
      ]
     },
     "execution_count": 109,
     "metadata": {},
     "output_type": "execute_result"
    }
   ],
   "source": [
    "val RangosDFL5_BORRADO = RangosDFL5.drop(\"valor_5\")"
   ]
  },
  {
   "cell_type": "code",
   "execution_count": 110,
   "id": "97462226",
   "metadata": {},
   "outputs": [
    {
     "name": "stdout",
     "output_type": "stream",
     "text": [
      "+------------+-------------+---------------+-----------+----------+---------------+-----------+------------+----------------+----------------+------------------+------------------+--------+\n",
      "|cod_distrito|desc_distrito|cod_dist_barrio|desc_barrio|cod_barrio|cod_dis_seccion|cod_seccion|cod_edad_int|espanoleshombres|espanolesmujeres|extranjeroshombres|extranjerosmujeres|longitud|\n",
      "+------------+-------------+---------------+-----------+----------+---------------+-----------+------------+----------------+----------------+------------------+------------------+--------+\n",
      "|1           |CENTRO       |101            |PALACIO    |1         |1006           |6          |100         |0               |1               |0                 |0                 |6       |\n",
      "|1           |CENTRO       |101            |PALACIO    |1         |1006           |6          |103         |0               |1               |0                 |0                 |6       |\n",
      "|1           |CENTRO       |101            |PALACIO    |1         |1007           |7          |0           |3               |1               |0                 |0                 |6       |\n",
      "|1           |CENTRO       |101            |PALACIO    |1         |1007           |7          |1           |1               |1               |0                 |1                 |6       |\n",
      "|1           |CENTRO       |101            |PALACIO    |1         |1007           |7          |2           |1               |3               |0                 |0                 |6       |\n",
      "|1           |CENTRO       |101            |PALACIO    |1         |1007           |7          |3           |4               |2               |0                 |0                 |6       |\n",
      "|1           |CENTRO       |101            |PALACIO    |1         |1007           |7          |4           |1               |1               |0                 |0                 |6       |\n",
      "|1           |CENTRO       |101            |PALACIO    |1         |1007           |7          |5           |1               |3               |0                 |1                 |6       |\n",
      "|1           |CENTRO       |101            |PALACIO    |1         |1007           |7          |6           |1               |4               |0                 |0                 |6       |\n",
      "|1           |CENTRO       |101            |PALACIO    |1         |1007           |7          |7           |3               |2               |0                 |0                 |6       |\n",
      "+------------+-------------+---------------+-----------+----------+---------------+-----------+------------+----------------+----------------+------------------+------------------+--------+\n",
      "only showing top 10 rows\n",
      "\r\n"
     ]
    }
   ],
   "source": [
    " RangosDFL5_BORRADO.show(10, false)"
   ]
  },
  {
   "cell_type": "markdown",
   "id": "babcc56a",
   "metadata": {},
   "source": [
    "6.8)\n",
    "Particiona el DataFrame por las variables DESC_DISTRITO y DESC_BARRIO."
   ]
  },
  {
   "cell_type": "code",
   "execution_count": 112,
   "id": "7d9ecc97",
   "metadata": {},
   "outputs": [
    {
     "data": {
      "text/plain": [
       "RangosDF_particion: org.apache.spark.sql.Dataset[org.apache.spark.sql.Row] = [cod_distrito: string, desc_distrito: string ... 10 more fields]\r\n"
      ]
     },
     "execution_count": 112,
     "metadata": {},
     "output_type": "execute_result"
    }
   ],
   "source": [
    "val RangosDF_particion = RangosDFS.repartition(col(\"desc_distrito\"), col(\"desc_barrio\"))"
   ]
  },
  {
   "cell_type": "markdown",
   "id": "50e2e94e",
   "metadata": {},
   "source": [
    "6.9)\n",
    "Almacénalo en caché. Consulta en el puerto 4040 (UI de Spark) de tu usuario local el estado\n",
    "de los rdds almacenados."
   ]
  },
  {
   "cell_type": "code",
   "execution_count": 124,
   "id": "c1af0d5b",
   "metadata": {},
   "outputs": [
    {
     "data": {
      "text/plain": [
       "res77: RangosDF_particion.type = [cod_distrito: string, desc_distrito: string ... 10 more fields]\r\n"
      ]
     },
     "execution_count": 124,
     "metadata": {},
     "output_type": "execute_result"
    }
   ],
   "source": [
    "RangosDF_particion.persist()"
   ]
  },
  {
   "cell_type": "code",
   "execution_count": 115,
   "id": "b6fda373",
   "metadata": {},
   "outputs": [
    {
     "name": "stdout",
     "output_type": "stream",
     "text": [
      "+------------+-------------------+---------------+-----------+----------+---------------+-----------+------------+----------------+----------------+------------------+------------------+\n",
      "|cod_distrito|      desc_distrito|cod_dist_barrio|desc_barrio|cod_barrio|cod_dis_seccion|cod_seccion|cod_edad_int|espanoleshombres|espanolesmujeres|extranjeroshombres|extranjerosmujeres|\n",
      "+------------+-------------------+---------------+-----------+----------+---------------+-----------+------------+----------------+----------------+------------------+------------------+\n",
      "|           8|FUENCARRAL-EL PARDO|            807| MIRASIERRA|         7|           8183|        183|          33|              13|              10|                 0|                 1|\n",
      "|           8|FUENCARRAL-EL PARDO|            807| MIRASIERRA|         7|           8183|        183|          34|               8|              15|                 0|                 1|\n",
      "|           8|FUENCARRAL-EL PARDO|            807| MIRASIERRA|         7|           8183|        183|          35|               7|              15|                 0|                 0|\n",
      "|           8|FUENCARRAL-EL PARDO|            807| MIRASIERRA|         7|           8183|        183|          36|               8|              17|                 4|                 3|\n",
      "|           8|FUENCARRAL-EL PARDO|            807| MIRASIERRA|         7|           8183|        183|          37|              14|              11|                 7|                 4|\n",
      "|           8|FUENCARRAL-EL PARDO|            807| MIRASIERRA|         7|           8183|        183|          38|               7|              20|                 1|                 3|\n",
      "|           8|FUENCARRAL-EL PARDO|            807| MIRASIERRA|         7|           8183|        183|          39|              17|              15|                 1|                 4|\n",
      "|           8|FUENCARRAL-EL PARDO|            807| MIRASIERRA|         7|           8183|        183|          40|              16|              22|                 4|                 3|\n",
      "|           8|FUENCARRAL-EL PARDO|            807| MIRASIERRA|         7|           8183|        183|          41|              18|              14|                 3|                 1|\n",
      "|           8|FUENCARRAL-EL PARDO|            807| MIRASIERRA|         7|           8183|        183|          42|              18|              19|                 2|                 1|\n",
      "|           8|FUENCARRAL-EL PARDO|            807| MIRASIERRA|         7|           8183|        183|          43|              26|              24|                 1|                 0|\n",
      "|           8|FUENCARRAL-EL PARDO|            807| MIRASIERRA|         7|           8183|        183|          44|              26|              30|                 1|                 2|\n",
      "|           8|FUENCARRAL-EL PARDO|            807| MIRASIERRA|         7|           8183|        183|          45|              19|              36|                 0|                 2|\n",
      "|           8|FUENCARRAL-EL PARDO|            807| MIRASIERRA|         7|           8183|        183|          46|              21|              29|                 2|                 2|\n",
      "|           8|FUENCARRAL-EL PARDO|            807| MIRASIERRA|         7|           8183|        183|          47|              30|              35|                 2|                 1|\n",
      "|           8|FUENCARRAL-EL PARDO|            807| MIRASIERRA|         7|           8183|        183|          48|              28|              27|                 1|                 0|\n",
      "|           8|FUENCARRAL-EL PARDO|            807| MIRASIERRA|         7|           8183|        183|          49|              24|              13|                 2|                 2|\n",
      "|           8|FUENCARRAL-EL PARDO|            807| MIRASIERRA|         7|           8183|        183|          50|              24|              18|                 1|                 1|\n",
      "|           8|FUENCARRAL-EL PARDO|            807| MIRASIERRA|         7|           8183|        183|          51|              18|              20|                 1|                 3|\n",
      "|           8|FUENCARRAL-EL PARDO|            807| MIRASIERRA|         7|           8183|        183|          52|              16|              22|                 1|                 2|\n",
      "+------------+-------------------+---------------+-----------+----------+---------------+-----------+------------+----------------+----------------+------------------+------------------+\n",
      "only showing top 20 rows\n",
      "\r\n"
     ]
    }
   ],
   "source": [
    "RangosDF_particion.show()"
   ]
  },
  {
   "cell_type": "markdown",
   "id": "ddacacfa",
   "metadata": {},
   "source": [
    "6.10)\n",
    "Lanza una consulta contra el DF resultante en la que muestre el número total de \n",
    "\"espanoleshombres\", \"espanolesmujeres\", extranjeroshombres\" y \"extranjerosmujeres\" \n",
    "para cada barrio de cada distrito. Las columnas distrito y barrio deben ser las primeras en \n",
    "aparecer en el show. Los resultados deben estar ordenados en orden de más a menos \n",
    "según la columna \"extranjerosmujeres\" y desempatarán por la columna \n",
    "\"extranjeroshombres\""
   ]
  },
  {
   "cell_type": "code",
   "execution_count": 123,
   "id": "f115e168",
   "metadata": {},
   "outputs": [
    {
     "name": "stdout",
     "output_type": "stream",
     "text": [
      "+--------------------+-------+-------+------+------+\n",
      "|desc_barrio         |EH     |EM     |EXH   |EXM   |\n",
      "+--------------------+-------+-------+------+------+\n",
      "|SAN DIEGO           |13875.0|15544.0|6732.0|6961.0|\n",
      "|ALUCHE              |25000.0|29776.0|5372.0|6257.0|\n",
      "|PUEBLO NUEVO        |23291.0|27325.0|5477.0|6198.0|\n",
      "|VISTA ALEGRE        |15988.0|19466.0|5356.0|6000.0|\n",
      "|EMBAJADORES         |16693.0|16666.0|8019.0|5718.0|\n",
      "|NUMANCIA            |17200.0|19472.0|5332.0|5603.0|\n",
      "|VILLAVERDE ALTO C.H.|17087.0|19060.0|5031.0|5236.0|\n",
      "|VENTAS              |17715.0|21818.0|3924.0|4783.0|\n",
      "|PUERTA DEL ANGEL    |15169.0|17728.0|4097.0|4653.0|\n",
      "|PUERTA BONITA       |12525.0|14240.0|4230.0|4624.0|\n",
      "|SAN ISIDRO          |14487.0|16574.0|4019.0|4395.0|\n",
      "|VALVERDE            |26955.0|29190.0|3532.0|4282.0|\n",
      "|UNIVERSIDAD         |12542.0|12631.0|4017.0|4040.0|\n",
      "|OPA?EL              |11651.0|14084.0|3543.0|3990.0|\n",
      "|LOS ROSALES         |14191.0|15636.0|3794.0|3821.0|\n",
      "|BELLAS VISTAS       |10202.0|11954.0|3118.0|3776.0|\n",
      "|MOSCARDO            |8507.0 |10247.0|3789.0|3767.0|\n",
      "|CASCO H.VICALVARO   |13391.0|14509.0|3687.0|3749.0|\n",
      "|VALDEFUENTES        |28457.0|28886.0|2839.0|3724.0|\n",
      "|CASCO H.VALLECAS    |15648.0|17029.0|3439.0|3661.0|\n",
      "+--------------------+-------+-------+------+------+\n",
      "only showing top 20 rows\n",
      "\r\n"
     ]
    }
   ],
   "source": [
    "RangosDF_particion.groupBy(\"desc_barrio\").agg(sum(\"espanoleshombres\").alias(\"EH\"), sum(\"espanolesmujeres\").alias(\"EM\"), sum(\"extranjeroshombres\").alias(\"EXH\"), sum(\"extranjerosmujeres\").alias(\"EXM\")).\n",
    "orderBy(col(\"EXM\").desc, col(\"EXH\").desc).show(false)"
   ]
  },
  {
   "cell_type": "markdown",
   "id": "6ad75ec8",
   "metadata": {},
   "source": [
    "6.11)\n",
    "Elimina el registro en caché.\n"
   ]
  },
  {
   "cell_type": "code",
   "execution_count": 125,
   "id": "0bdb37ab",
   "metadata": {},
   "outputs": [
    {
     "data": {
      "text/plain": [
       "res78: RangosDF_particion.type = [cod_distrito: string, desc_distrito: string ... 10 more fields]\r\n"
      ]
     },
     "execution_count": 125,
     "metadata": {},
     "output_type": "execute_result"
    }
   ],
   "source": [
    "RangosDF_particion.unpersist()"
   ]
  },
  {
   "cell_type": "markdown",
   "id": "50e2e013",
   "metadata": {},
   "source": [
    "6.12)\n",
    "Crea un nuevo DataFrame a partir del original que muestre únicamente una columna con \n",
    "DESC_BARRIO, otra con DESC_DISTRITO y otra con el número total de \"espanoleshombres\" \n",
    "residentes en cada distrito de cada barrio. Únelo (con un join) con el DataFrame original a \n",
    "través de las columnas en común.\n"
   ]
  },
  {
   "cell_type": "code",
   "execution_count": 128,
   "id": "bee43a76",
   "metadata": {},
   "outputs": [
    {
     "data": {
      "text/plain": [
       "RangosDF3: org.apache.spark.sql.Dataset[org.apache.spark.sql.Row] = [desc_distrito: string, desc_barrio: string ... 1 more field]\r\n"
      ]
     },
     "execution_count": 128,
     "metadata": {},
     "output_type": "execute_result"
    }
   ],
   "source": [
    "val RangosDF3 = RangosDFS.select(\"desc_barrio\", \"desc_distrito\", \"espanoleshombres\").groupBy(\"desc_distrito\", \"desc_barrio\")\n",
    ".agg(sum(\"espanoleshombres\")).orderBy(\"desc_distrito\")"
   ]
  },
  {
   "cell_type": "code",
   "execution_count": 129,
   "id": "15bda72e",
   "metadata": {},
   "outputs": [
    {
     "name": "stdout",
     "output_type": "stream",
     "text": [
      "+-------------+----------------+---------------------+\n",
      "|desc_distrito|desc_barrio     |sum(espanoleshombres)|\n",
      "+-------------+----------------+---------------------+\n",
      "|ARGANZUELA   |PALOS DE MOGUER |10010.0              |\n",
      "|ARGANZUELA   |ACACIAS         |15403.0              |\n",
      "|ARGANZUELA   |ATOCHA          |712.0                |\n",
      "|ARGANZUELA   |LEGAZPI         |8861.0               |\n",
      "|ARGANZUELA   |DELICIAS        |11720.0              |\n",
      "|ARGANZUELA   |CHOPERA         |7787.0               |\n",
      "|ARGANZUELA   |IMPERIAL        |9658.0               |\n",
      "|BARAJAS      |ALAMEDA DE OSUNA|8896.0               |\n",
      "|BARAJAS      |CORRALEJOS      |3545.0               |\n",
      "|BARAJAS      |CASCO H.BARAJAS |2947.0               |\n",
      "|BARAJAS      |TIMON           |5785.0               |\n",
      "|BARAJAS      |AEROPUERTO      |768.0                |\n",
      "|CARABANCHEL  |PUERTA BONITA   |12525.0              |\n",
      "|CARABANCHEL  |COMILLAS        |8211.0               |\n",
      "|CARABANCHEL  |VISTA ALEGRE    |15988.0              |\n",
      "|CARABANCHEL  |OPA?EL          |11651.0              |\n",
      "|CARABANCHEL  |SAN ISIDRO      |14487.0              |\n",
      "|CARABANCHEL  |ABRANTES        |11244.0              |\n",
      "|CARABANCHEL  |BUENAVISTA      |19865.0              |\n",
      "|CENTRO       |PALACIO         |9323.0               |\n",
      "+-------------+----------------+---------------------+\n",
      "only showing top 20 rows\n",
      "\r\n"
     ]
    }
   ],
   "source": [
    "RangosDF3.show(false)"
   ]
  },
  {
   "cell_type": "code",
   "execution_count": 131,
   "id": "fc7d6fda",
   "metadata": {},
   "outputs": [
    {
     "data": {
      "text/plain": [
       "RangosDF_join: org.apache.spark.sql.DataFrame = [desc_distrito: string, desc_barrio: string ... 13 more fields]\r\n"
      ]
     },
     "execution_count": 131,
     "metadata": {},
     "output_type": "execute_result"
    }
   ],
   "source": [
    "val RangosDF_join = RangosDF3.join(RangosDFS, RangosDF3(\"desc_distrito\") === RangosDFS(\"desc_distrito\") && RangosDF3(\"desc_barrio\") === RangosDFS(\"desc_barrio\") )"
   ]
  },
  {
   "cell_type": "code",
   "execution_count": 132,
   "id": "f77389ee",
   "metadata": {},
   "outputs": [
    {
     "name": "stdout",
     "output_type": "stream",
     "text": [
      "+-------------------+-----------+---------------------+------------+-------------------+---------------+-----------+----------+---------------+-----------+------------+----------------+----------------+------------------+------------------+\n",
      "|desc_distrito      |desc_barrio|sum(espanoleshombres)|cod_distrito|desc_distrito      |cod_dist_barrio|desc_barrio|cod_barrio|cod_dis_seccion|cod_seccion|cod_edad_int|espanoleshombres|espanolesmujeres|extranjeroshombres|extranjerosmujeres|\n",
      "+-------------------+-----------+---------------------+------------+-------------------+---------------+-----------+----------+---------------+-----------+------------+----------------+----------------+------------------+------------------+\n",
      "|FUENCARRAL-EL PARDO|MIRASIERRA |16011.0              |8           |FUENCARRAL-EL PARDO|807            |MIRASIERRA |7         |8183           |183        |33          |13              |10              |0                 |1                 |\n",
      "|FUENCARRAL-EL PARDO|MIRASIERRA |16011.0              |8           |FUENCARRAL-EL PARDO|807            |MIRASIERRA |7         |8183           |183        |34          |8               |15              |0                 |1                 |\n",
      "|FUENCARRAL-EL PARDO|MIRASIERRA |16011.0              |8           |FUENCARRAL-EL PARDO|807            |MIRASIERRA |7         |8183           |183        |35          |7               |15              |0                 |0                 |\n",
      "|FUENCARRAL-EL PARDO|MIRASIERRA |16011.0              |8           |FUENCARRAL-EL PARDO|807            |MIRASIERRA |7         |8183           |183        |36          |8               |17              |4                 |3                 |\n",
      "|FUENCARRAL-EL PARDO|MIRASIERRA |16011.0              |8           |FUENCARRAL-EL PARDO|807            |MIRASIERRA |7         |8183           |183        |37          |14              |11              |7                 |4                 |\n",
      "|FUENCARRAL-EL PARDO|MIRASIERRA |16011.0              |8           |FUENCARRAL-EL PARDO|807            |MIRASIERRA |7         |8183           |183        |38          |7               |20              |1                 |3                 |\n",
      "|FUENCARRAL-EL PARDO|MIRASIERRA |16011.0              |8           |FUENCARRAL-EL PARDO|807            |MIRASIERRA |7         |8183           |183        |39          |17              |15              |1                 |4                 |\n",
      "|FUENCARRAL-EL PARDO|MIRASIERRA |16011.0              |8           |FUENCARRAL-EL PARDO|807            |MIRASIERRA |7         |8183           |183        |40          |16              |22              |4                 |3                 |\n",
      "|FUENCARRAL-EL PARDO|MIRASIERRA |16011.0              |8           |FUENCARRAL-EL PARDO|807            |MIRASIERRA |7         |8183           |183        |41          |18              |14              |3                 |1                 |\n",
      "|FUENCARRAL-EL PARDO|MIRASIERRA |16011.0              |8           |FUENCARRAL-EL PARDO|807            |MIRASIERRA |7         |8183           |183        |42          |18              |19              |2                 |1                 |\n",
      "|FUENCARRAL-EL PARDO|MIRASIERRA |16011.0              |8           |FUENCARRAL-EL PARDO|807            |MIRASIERRA |7         |8183           |183        |43          |26              |24              |1                 |0                 |\n",
      "|FUENCARRAL-EL PARDO|MIRASIERRA |16011.0              |8           |FUENCARRAL-EL PARDO|807            |MIRASIERRA |7         |8183           |183        |44          |26              |30              |1                 |2                 |\n",
      "|FUENCARRAL-EL PARDO|MIRASIERRA |16011.0              |8           |FUENCARRAL-EL PARDO|807            |MIRASIERRA |7         |8183           |183        |45          |19              |36              |0                 |2                 |\n",
      "|FUENCARRAL-EL PARDO|MIRASIERRA |16011.0              |8           |FUENCARRAL-EL PARDO|807            |MIRASIERRA |7         |8183           |183        |46          |21              |29              |2                 |2                 |\n",
      "|FUENCARRAL-EL PARDO|MIRASIERRA |16011.0              |8           |FUENCARRAL-EL PARDO|807            |MIRASIERRA |7         |8183           |183        |47          |30              |35              |2                 |1                 |\n",
      "|FUENCARRAL-EL PARDO|MIRASIERRA |16011.0              |8           |FUENCARRAL-EL PARDO|807            |MIRASIERRA |7         |8183           |183        |48          |28              |27              |1                 |0                 |\n",
      "|FUENCARRAL-EL PARDO|MIRASIERRA |16011.0              |8           |FUENCARRAL-EL PARDO|807            |MIRASIERRA |7         |8183           |183        |49          |24              |13              |2                 |2                 |\n",
      "|FUENCARRAL-EL PARDO|MIRASIERRA |16011.0              |8           |FUENCARRAL-EL PARDO|807            |MIRASIERRA |7         |8183           |183        |50          |24              |18              |1                 |1                 |\n",
      "|FUENCARRAL-EL PARDO|MIRASIERRA |16011.0              |8           |FUENCARRAL-EL PARDO|807            |MIRASIERRA |7         |8183           |183        |51          |18              |20              |1                 |3                 |\n",
      "|FUENCARRAL-EL PARDO|MIRASIERRA |16011.0              |8           |FUENCARRAL-EL PARDO|807            |MIRASIERRA |7         |8183           |183        |52          |16              |22              |1                 |2                 |\n",
      "+-------------------+-----------+---------------------+------------+-------------------+---------------+-----------+----------+---------------+-----------+------------+----------------+----------------+------------------+------------------+\n",
      "only showing top 20 rows\n",
      "\r\n"
     ]
    }
   ],
   "source": [
    "RangosDF_join.show(false)"
   ]
  },
  {
   "cell_type": "markdown",
   "id": "598cd66a",
   "metadata": {},
   "source": [
    "6.14)\n",
    "Mediante una función Pivot muestra una tabla (que va a ser una tabla de contingencia) que\n",
    "contenga los valores totales ()la suma de valores) de espanolesmujeres para cada distrito y \n",
    "en cada rango de edad (COD_EDAD_INT). Los distritos incluidos deben ser únicamente \n",
    "CENTRO, BARAJAS y RETIRO y deben figurar como columnas . El aspecto debe ser similar a \n",
    "este:"
   ]
  },
  {
   "cell_type": "code",
   "execution_count": 134,
   "id": "df6d926d",
   "metadata": {},
   "outputs": [
    {
     "data": {
      "text/plain": [
       "RangosDF_pivot: org.apache.spark.sql.Dataset[org.apache.spark.sql.Row] = [cod_edad_int: string, BARAJAS: double ... 2 more fields]\r\n"
      ]
     },
     "execution_count": 134,
     "metadata": {},
     "output_type": "execute_result"
    }
   ],
   "source": [
    "val RangosDF_pivot = RangosDFS.groupBy(\"cod_edad_int\").pivot(\"desc_distrito\", Seq(\"BARAJAS\", \"CENTRO\", \"RETIRO\")).agg(sum(\"espanolesmujeres\")).orderBy(\"cod_edad_int\")"
   ]
  },
  {
   "cell_type": "code",
   "execution_count": 135,
   "id": "1a0bf206",
   "metadata": {},
   "outputs": [
    {
     "data": {
      "text/plain": [
       "res81: org.apache.spark.sql.DataFrame = [summary: string, cod_edad_int: string ... 3 more fields]\r\n"
      ]
     },
     "execution_count": 135,
     "metadata": {},
     "output_type": "execute_result"
    }
   ],
   "source": [
    "RangosDF_pivot.describe()"
   ]
  },
  {
   "cell_type": "code",
   "execution_count": 136,
   "id": "c95c772b",
   "metadata": {},
   "outputs": [
    {
     "name": "stdout",
     "output_type": "stream",
     "text": [
      "+------------+-------+------+------+\n",
      "|cod_edad_int|BARAJAS|CENTRO|RETIRO|\n",
      "+------------+-------+------+------+\n",
      "|           0|  157.0| 245.0| 283.0|\n",
      "|           1|  196.0| 243.0| 368.0|\n",
      "|          10|  254.0| 255.0| 409.0|\n",
      "|         100|    7.0|  27.0|  25.0|\n",
      "|         101|    5.0|  12.0|  23.0|\n",
      "|         102|   null|   5.0|  15.0|\n",
      "|         103|    1.0|   8.0|   2.0|\n",
      "|         104|   null|   4.0|   6.0|\n",
      "|         105|   null|   1.0|   3.0|\n",
      "|         106|   null|   4.0|   1.0|\n",
      "|         107|   null|   1.0|   0.0|\n",
      "|         108|    1.0|   1.0|  null|\n",
      "|         109|   null|  null|   4.0|\n",
      "|          11|  256.0| 253.0| 403.0|\n",
      "|         110|   null|   1.0|  null|\n",
      "|         111|   null|   2.0|   1.0|\n",
      "|         112|   null|  null|  null|\n",
      "|         113|   null|  null|  null|\n",
      "|         114|   null|  null|  null|\n",
      "|          12|  278.0| 283.0| 448.0|\n",
      "+------------+-------+------+------+\n",
      "only showing top 20 rows\n",
      "\r\n"
     ]
    }
   ],
   "source": [
    "RangosDF_pivot.show()"
   ]
  },
  {
   "cell_type": "markdown",
   "id": "20819d67",
   "metadata": {},
   "source": [
    "6.15)\n",
    "Utilizando este nuevo DF, crea 3 columnas nuevas que hagan referencia a qué porcentaje \n",
    "de la suma de \"espanolesmujeres\" en los tres distritos para cada rango de edad representa \n",
    "cada uno de los tres distritos. Debe estar redondeada a 2 decimales. Puedes imponerte la \n",
    "condición extra de no apoyarte en ninguna columna auxiliar creada para el caso."
   ]
  },
  {
   "cell_type": "code",
   "execution_count": 137,
   "id": "29c0750c",
   "metadata": {},
   "outputs": [
    {
     "data": {
      "text/plain": [
       "RangosDF_porcentaje: org.apache.spark.sql.DataFrame = [cod_edad_int: string, BARAJAS: double ... 2 more fields]\r\n"
      ]
     },
     "execution_count": 137,
     "metadata": {},
     "output_type": "execute_result"
    }
   ],
   "source": [
    "val RangosDF_porcentaje = RangosDF_pivot.withColumn(\"BARAJAS\", round(col(\"BARAJAS\")/(col(\"BARAJAS\")+col(\"CENTRO\")+col(\"RETIRO\"))*100, 2))\n",
    ".withColumn(\"RETIRO\", round(col(\"BARAJAS\")/(col(\"BARAJAS\")+col(\"CENTRO\")+col(\"RETIRO\"))*100, 2))\n",
    ".withColumn(\"CENTRO\", round(col(\"BARAJAS\")/(col(\"BARAJAS\")+col(\"CENTRO\")+col(\"RETIRO\"))*100, 2))"
   ]
  },
  {
   "cell_type": "code",
   "execution_count": 138,
   "id": "8116cfb7",
   "metadata": {
    "scrolled": true
   },
   "outputs": [
    {
     "name": "stdout",
     "output_type": "stream",
     "text": [
      "+------------+-------+------+------+\n",
      "|cod_edad_int|BARAJAS|CENTRO|RETIRO|\n",
      "+------------+-------+------+------+\n",
      "|           0|  22.92|  8.42|  4.16|\n",
      "|           1|  24.29|  8.96|  3.82|\n",
      "|          10|  27.67|  9.65|   4.0|\n",
      "|         100|  11.86| 20.65| 18.57|\n",
      "|         101|   12.5|  24.6| 26.32|\n",
      "|         102|   null|  null|  null|\n",
      "|         103|   9.09| 14.05| 47.62|\n",
      "|         104|   null|  null|  null|\n",
      "|         105|   null|  null|  null|\n",
      "|         106|   null|  null|  null|\n",
      "|         107|   null|  null|  null|\n",
      "|         108|   null|  null|  null|\n",
      "|         109|   null|  null|  null|\n",
      "|          11|  28.07|  9.84|   4.1|\n",
      "|         110|   null|  null|  null|\n",
      "|         111|   null|  null|  null|\n",
      "|         112|   null|  null|  null|\n",
      "|         113|   null|  null|  null|\n",
      "|         114|   null|  null|  null|\n",
      "|          12|  27.55|  8.77|  3.63|\n",
      "+------------+-------+------+------+\n",
      "only showing top 20 rows\n",
      "\r\n"
     ]
    }
   ],
   "source": [
    "RangosDF_porcentaje.show()"
   ]
  },
  {
   "cell_type": "markdown",
   "id": "d13f3a7a",
   "metadata": {},
   "source": [
    "6.16)\n",
    "Guarda el archivo csv original particionado por distrito y por barrio (en ese orden) en un \n",
    "directorio local. Consulta el directorio para ver la estructura de los ficheros y comprueba \n",
    "que es la esperada"
   ]
  },
  {
   "cell_type": "code",
   "execution_count": 13,
   "id": "17ceed38",
   "metadata": {},
   "outputs": [],
   "source": [
    "RangosDFS.write.format(\"parquet\").mode(\"overwrite\").save(\"C:/LearningSparkV2-master/databricks-datasets/learning-spark-v2/padronparquet\")"
   ]
  },
  {
   "cell_type": "code",
   "execution_count": 14,
   "id": "23d9fd93",
   "metadata": {},
   "outputs": [],
   "source": [
    "RangosDFS.write.format(\"csv\").mode(\"overwrite\").save(\"padroncsv\")"
   ]
  },
  {
   "cell_type": "markdown",
   "id": "d923348f",
   "metadata": {},
   "source": [
    "6.17)\n",
    "Haz el mismo guardado pero en formato parquet. Compara el peso del archivo con el \n",
    "resultado anterior."
   ]
  },
  {
   "cell_type": "code",
   "execution_count": 15,
   "id": "331cab6f",
   "metadata": {},
   "outputs": [],
   "source": [
    "RangosDFS.write.format(\"parquet\").mode(\"overwrite\").save(\"padronparquet\")"
   ]
  },
  {
   "cell_type": "code",
   "execution_count": 16,
   "id": "9a5d36c9",
   "metadata": {},
   "outputs": [],
   "source": [
    "RangosDFS.write.format(\"csv\").mode(\"overwrite\").save(\"C:/LearningSparkV2-master/databricks-datasets/learning-spark-v2/padroncsv\")"
   ]
  }
 ],
 "metadata": {
  "kernelspec": {
   "display_name": "spylon-kernel",
   "language": "scala",
   "name": "spylon-kernel"
  },
  "language_info": {
   "codemirror_mode": "text/x-scala",
   "file_extension": ".scala",
   "help_links": [
    {
     "text": "MetaKernel Magics",
     "url": "https://metakernel.readthedocs.io/en/latest/source/README.html"
    }
   ],
   "mimetype": "text/x-scala",
   "name": "scala",
   "pygments_lexer": "scala",
   "version": "0.4.1"
  }
 },
 "nbformat": 4,
 "nbformat_minor": 5
}
